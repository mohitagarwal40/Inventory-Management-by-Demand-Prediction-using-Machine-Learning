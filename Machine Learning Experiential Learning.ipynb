{
 "cells": [
  {
   "cell_type": "markdown",
   "metadata": {},
   "source": [
    "There are two key implementations of Artificial Intelligence/ Machine Learning for Inventory\n",
    "Management:\n",
    "*  1. Demand Prediction for Inventory Management.\n",
    "*  2. Reinforcement Learning systems for full-inventory management.\n",
    "*  Since, Reinforcement Learning is a more complex and advanced topic for research, for this\n",
    "project work we will be sticking with Demand prediction for Inventory Management.\n"
   ]
  },
  {
   "cell_type": "markdown",
   "metadata": {},
   "source": [
    "#  Problem Defination\n",
    "\n",
    "Demand Prediction for Inventory Management:-\n",
    "As the name suggest, the general idea is to build a time series prediction model that can estimate\n",
    "what demand will be like for the coming days across all items in your inventory using historical\n",
    "sales data."
   ]
  },
  {
   "cell_type": "markdown",
   "metadata": {},
   "source": [
    "## Algortihms to be used and compared\n",
    "* 1. LinearRegression\n",
    "* 2. ElasticNet\n",
    "* 3. RidgeCV\n",
    "* 4. Lasso\n",
    "*  5.DecisionTreeRegressor\n",
    "*  6.RandomForestRegressor\n",
    "*  7.GradientBoostingRegressor\n",
    "*  8.AdaBoostRegressor\n",
    "*  9.SVR\n",
    "*  10.LinearSVR\n",
    "*  11.XGBRegressor\n",
    "*  12.LGBMRegressor"
   ]
  },
  {
   "cell_type": "code",
   "execution_count": 1,
   "metadata": {
    "_cell_guid": "b1076dfc-b9ad-4769-8c92-a6c4dae69d19",
    "_kg_hide-input": true,
    "_uuid": "8f2839f25d086af736a60e9eeb907d3b93b6e0e5",
    "execution": {
     "iopub.execute_input": "2020-08-11T08:40:49.854548Z",
     "iopub.status.busy": "2020-08-11T08:40:49.853649Z",
     "iopub.status.idle": "2020-08-11T08:40:51.196975Z",
     "shell.execute_reply": "2020-08-11T08:40:51.196278Z"
    },
    "papermill": {
     "duration": 1.363341,
     "end_time": "2020-08-11T08:40:51.197144",
     "exception": false,
     "start_time": "2020-08-11T08:40:49.833803",
     "status": "completed"
    },
    "tags": []
   },
   "outputs": [],
   "source": [
    "import numpy as np \n",
    "import pandas as pd \n",
    "import matplotlib.pyplot as plt\n",
    "import seaborn as sns\n"
   ]
  },
  {
   "cell_type": "code",
   "execution_count": 2,
   "metadata": {
    "_cell_guid": "79c7e3d0-c299-4dcb-8224-4455121ee9b0",
    "_uuid": "d629ff2d2480ee46fbb7e2d37f6b5fab8052498a",
    "execution": {
     "iopub.execute_input": "2020-08-11T08:40:51.236979Z",
     "iopub.status.busy": "2020-08-11T08:40:51.235807Z",
     "iopub.status.idle": "2020-08-11T08:40:51.661683Z",
     "shell.execute_reply": "2020-08-11T08:40:51.660766Z"
    },
    "papermill": {
     "duration": 0.450229,
     "end_time": "2020-08-11T08:40:51.661829",
     "exception": false,
     "start_time": "2020-08-11T08:40:51.211600",
     "status": "completed"
    },
    "scrolled": true,
    "tags": []
   },
   "outputs": [],
   "source": [
    "data_store = pd.read_csv(\"stores_data_set.csv\")\n",
    "data_feature = pd.read_csv(\"features_data_set.csv\",parse_dates=[\"Date\"])\n",
    "data_sales = pd.read_csv(\"sales_data_set.csv\",parse_dates=[\"Date\"])"
   ]
  },
  {
   "cell_type": "markdown",
   "metadata": {
    "papermill": {
     "duration": 0.013441,
     "end_time": "2020-08-11T08:40:51.689226",
     "exception": false,
     "start_time": "2020-08-11T08:40:51.675785",
     "status": "completed"
    },
    "tags": []
   },
   "source": [
    "<a id=\"1\"></a> <br>\n",
    "# Glance of the data\n",
    "\n",
    "Lets see how the tables look and get some basic information. i.e \n",
    "* Data types\n",
    "* No of Data (rows and column)\n",
    "* Null Data\n",
    "* few rows to understand the data"
   ]
  },
  {
   "cell_type": "code",
   "execution_count": 3,
   "metadata": {
    "execution": {
     "iopub.execute_input": "2020-08-11T08:40:51.736619Z",
     "iopub.status.busy": "2020-08-11T08:40:51.735471Z",
     "iopub.status.idle": "2020-08-11T08:40:51.740784Z",
     "shell.execute_reply": "2020-08-11T08:40:51.741631Z"
    },
    "papermill": {
     "duration": 0.038443,
     "end_time": "2020-08-11T08:40:51.741870",
     "exception": false,
     "start_time": "2020-08-11T08:40:51.703427",
     "status": "completed"
    },
    "tags": []
   },
   "outputs": [
    {
     "name": "stdout",
     "output_type": "stream",
     "text": [
      "<class 'pandas.core.frame.DataFrame'>\n",
      "RangeIndex: 45 entries, 0 to 44\n",
      "Data columns (total 3 columns):\n",
      " #   Column  Non-Null Count  Dtype \n",
      "---  ------  --------------  ----- \n",
      " 0   Store   45 non-null     int64 \n",
      " 1   Type    45 non-null     object\n",
      " 2   Size    45 non-null     int64 \n",
      "dtypes: int64(2), object(1)\n",
      "memory usage: 1.2+ KB\n",
      "None\n",
      "   Store Type    Size\n",
      "0      1    A  151315\n",
      "1      2    A  202307\n",
      "2      3    B   37392\n",
      "3      4    A  205863\n",
      "4      5    B   34875\n"
     ]
    }
   ],
   "source": [
    "print(data_store.info())\n",
    "print(data_store.head())"
   ]
  },
  {
   "cell_type": "code",
   "execution_count": 4,
   "metadata": {
    "execution": {
     "iopub.execute_input": "2020-08-11T08:40:51.778351Z",
     "iopub.status.busy": "2020-08-11T08:40:51.777023Z",
     "iopub.status.idle": "2020-08-11T08:40:51.798625Z",
     "shell.execute_reply": "2020-08-11T08:40:51.797749Z"
    },
    "papermill": {
     "duration": 0.04219,
     "end_time": "2020-08-11T08:40:51.798766",
     "exception": false,
     "start_time": "2020-08-11T08:40:51.756576",
     "status": "completed"
    },
    "tags": []
   },
   "outputs": [
    {
     "name": "stdout",
     "output_type": "stream",
     "text": [
      "<class 'pandas.core.frame.DataFrame'>\n",
      "RangeIndex: 8190 entries, 0 to 8189\n",
      "Data columns (total 12 columns):\n",
      " #   Column        Non-Null Count  Dtype         \n",
      "---  ------        --------------  -----         \n",
      " 0   Store         8190 non-null   int64         \n",
      " 1   Date          8190 non-null   datetime64[ns]\n",
      " 2   Temperature   8190 non-null   float64       \n",
      " 3   Fuel_Price    8190 non-null   float64       \n",
      " 4   MarkDown1     4032 non-null   float64       \n",
      " 5   MarkDown2     2921 non-null   float64       \n",
      " 6   MarkDown3     3613 non-null   float64       \n",
      " 7   MarkDown4     3464 non-null   float64       \n",
      " 8   MarkDown5     4050 non-null   float64       \n",
      " 9   CPI           7605 non-null   float64       \n",
      " 10  Unemployment  7605 non-null   float64       \n",
      " 11  IsHoliday     8190 non-null   bool          \n",
      "dtypes: bool(1), datetime64[ns](1), float64(9), int64(1)\n",
      "memory usage: 712.0 KB\n",
      "None\n",
      "   Store       Date  Temperature  Fuel_Price  MarkDown1  MarkDown2  MarkDown3  \\\n",
      "0      1 2010-05-02        42.31       2.572        NaN        NaN        NaN   \n",
      "1      1 2010-12-02        38.51       2.548        NaN        NaN        NaN   \n",
      "2      1 2010-02-19        39.93       2.514        NaN        NaN        NaN   \n",
      "3      1 2010-02-26        46.63       2.561        NaN        NaN        NaN   \n",
      "4      1 2010-05-03        46.50       2.625        NaN        NaN        NaN   \n",
      "\n",
      "   MarkDown4  MarkDown5         CPI  Unemployment  IsHoliday  \n",
      "0        NaN        NaN  211.096358         8.106      False  \n",
      "1        NaN        NaN  211.242170         8.106       True  \n",
      "2        NaN        NaN  211.289143         8.106      False  \n",
      "3        NaN        NaN  211.319643         8.106      False  \n",
      "4        NaN        NaN  211.350143         8.106      False  \n"
     ]
    }
   ],
   "source": [
    "print(data_feature.info())\n",
    "print(data_feature.head())"
   ]
  },
  {
   "cell_type": "code",
   "execution_count": 5,
   "metadata": {
    "execution": {
     "iopub.execute_input": "2020-08-11T08:40:51.833592Z",
     "iopub.status.busy": "2020-08-11T08:40:51.832779Z",
     "iopub.status.idle": "2020-08-11T08:40:51.854572Z",
     "shell.execute_reply": "2020-08-11T08:40:51.855363Z"
    },
    "papermill": {
     "duration": 0.042514,
     "end_time": "2020-08-11T08:40:51.855596",
     "exception": false,
     "start_time": "2020-08-11T08:40:51.813082",
     "status": "completed"
    },
    "tags": []
   },
   "outputs": [
    {
     "name": "stdout",
     "output_type": "stream",
     "text": [
      "<class 'pandas.core.frame.DataFrame'>\n",
      "RangeIndex: 421570 entries, 0 to 421569\n",
      "Data columns (total 5 columns):\n",
      " #   Column        Non-Null Count   Dtype         \n",
      "---  ------        --------------   -----         \n",
      " 0   Store         421570 non-null  int64         \n",
      " 1   Dept          421570 non-null  int64         \n",
      " 2   Date          421570 non-null  datetime64[ns]\n",
      " 3   Weekly_Sales  421570 non-null  float64       \n",
      " 4   IsHoliday     421570 non-null  bool          \n",
      "dtypes: bool(1), datetime64[ns](1), float64(1), int64(2)\n",
      "memory usage: 13.3 MB\n",
      "None\n",
      "   Store  Dept       Date  Weekly_Sales  IsHoliday\n",
      "0      1     1 2010-05-02      24924.50      False\n",
      "1      1     1 2010-12-02      46039.49       True\n",
      "2      1     1 2010-02-19      41595.55      False\n",
      "3      1     1 2010-02-26      19403.54      False\n",
      "4      1     1 2010-05-03      21827.90      False\n"
     ]
    }
   ],
   "source": [
    "print(data_sales.info())\n",
    "print(data_sales.head())"
   ]
  },
  {
   "cell_type": "markdown",
   "metadata": {
    "papermill": {
     "duration": 0.014001,
     "end_time": "2020-08-11T08:40:51.884235",
     "exception": false,
     "start_time": "2020-08-11T08:40:51.870234",
     "status": "completed"
    },
    "tags": []
   },
   "source": [
    "*  looking into the data we find that we can group data based on the time,store,department.\n",
    "*  Also we can check how holiday,Temperature,Fuel Price,CPI,Unemployment,Type of Store affecting sales."
   ]
  },
  {
   "cell_type": "markdown",
   "metadata": {
    "papermill": {
     "duration": 0.014006,
     "end_time": "2020-08-11T08:40:51.912451",
     "exception": false,
     "start_time": "2020-08-11T08:40:51.898445",
     "status": "completed"
    },
    "tags": []
   },
   "source": [
    "<a id=\"2\"></a> <br>\n",
    "# **Analysis Datewise**\n",
    "\n",
    "let explore data based on the timeline\n",
    "\n",
    "* lets Merge Feature tables and sales tables based on the date \n",
    "* we will convert WeeklySales in Millions\n",
    "* we will modify column as the day is holiday or not"
   ]
  },
  {
   "cell_type": "code",
   "execution_count": 6,
   "metadata": {
    "execution": {
     "iopub.execute_input": "2020-08-11T08:40:51.958173Z",
     "iopub.status.busy": "2020-08-11T08:40:51.950427Z",
     "iopub.status.idle": "2020-08-11T08:40:52.038673Z",
     "shell.execute_reply": "2020-08-11T08:40:52.037717Z"
    },
    "papermill": {
     "duration": 0.112099,
     "end_time": "2020-08-11T08:40:52.038830",
     "exception": false,
     "start_time": "2020-08-11T08:40:51.926731",
     "status": "completed"
    },
    "tags": []
   },
   "outputs": [],
   "source": [
    "data_date = data_feature.groupby(\"Date\").agg({\"Temperature\":\"mean\"\n",
    "                                            ,\"Fuel_Price\":\"mean\"\n",
    "                                            ,\"IsHoliday\":\"sum\"\n",
    "                                            ,\"CPI\":\"mean\"\n",
    "                                           ,\"Unemployment\":\"mean\"})\n",
    "data_date = data_date.sort_index()\n",
    "temp_date_data = data_date[:'2012-12-10']\n",
    "\n",
    "data_sales_date = data_sales.groupby(\"Date\").agg({\"Weekly_Sales\":\"sum\"})\n",
    "data_sales_date.sort_index(inplace=True)\n",
    "data_sales_date.Weekly_Sales = data_sales_date.Weekly_Sales/1000000\n",
    "data_sales_date.Weekly_Sales = data_sales_date.Weekly_Sales.apply(int)\n",
    "data = pd.merge(data_sales_date, temp_date_data, left_index=True,right_index=True, how='left')\n",
    "data[\"IsHoliday\"] = data[\"IsHoliday\"].apply(lambda x: True if x == 45.0 else False )\n"
   ]
  },
  {
   "cell_type": "code",
   "execution_count": 7,
   "metadata": {
    "execution": {
     "iopub.execute_input": "2020-08-11T08:40:52.095570Z",
     "iopub.status.busy": "2020-08-11T08:40:52.094343Z",
     "iopub.status.idle": "2020-08-11T08:40:52.127871Z",
     "shell.execute_reply": "2020-08-11T08:40:52.126826Z"
    },
    "papermill": {
     "duration": 0.065216,
     "end_time": "2020-08-11T08:40:52.128110",
     "exception": false,
     "start_time": "2020-08-11T08:40:52.062894",
     "status": "completed"
    },
    "tags": []
   },
   "outputs": [
    {
     "name": "stdout",
     "output_type": "stream",
     "text": [
      "       Weekly_Sales  Temperature  Fuel_Price         CPI  Unemployment\n",
      "count    143.000000   143.000000  143.000000  143.000000    143.000000\n",
      "mean      46.601399    60.663782    3.358607  171.578394      7.999151\n",
      "std        5.399713    15.172792    0.429401    3.100148      0.483853\n",
      "min       39.000000    30.480889    2.672067  167.546485      6.953711\n",
      "25%       44.000000    47.720222    2.885367  168.408144      7.508333\n",
      "50%       46.000000    61.051111    3.488644  171.386189      8.150133\n",
      "75%       47.000000    74.697333    3.726133  174.724576      8.428578\n",
      "max       80.000000    82.176444    3.997778  176.652613      8.619311\n"
     ]
    }
   ],
   "source": [
    "print(data.describe())"
   ]
  },
  {
   "cell_type": "code",
   "execution_count": 8,
   "metadata": {
    "execution": {
     "iopub.execute_input": "2020-08-11T08:40:52.179380Z",
     "iopub.status.busy": "2020-08-11T08:40:52.178574Z",
     "iopub.status.idle": "2020-08-11T08:40:55.363428Z",
     "shell.execute_reply": "2020-08-11T08:40:55.364064Z"
    },
    "papermill": {
     "duration": 3.215877,
     "end_time": "2020-08-11T08:40:55.364245",
     "exception": false,
     "start_time": "2020-08-11T08:40:52.148368",
     "status": "completed"
    },
    "tags": []
   },
   "outputs": [
    {
     "data": {
      "text/plain": [
       "<AxesSubplot:title={'center':'Unemployment'}, xlabel='Date'>"
      ]
     },
     "execution_count": 8,
     "metadata": {},
     "output_type": "execute_result"
    },
    {
     "data": {
      "image/png": "[encoded data removed]",
      "text/plain": [
       "<Figure size 1080x720 with 5 Axes>"
      ]
     },
     "metadata": {},
     "output_type": "display_data"
    }
   ],
   "source": [
    "plt.style.use('ggplot')\n",
    "#plt.figure(figsize=(15,4))\n",
    "fig, ax = plt.subplots(5,1,figsize=(15,10),sharex=True) \n",
    "data[\"Weekly_Sales\"].plot(ax=ax[1],title=\"Weekly Sales/sales on Holiday\")\n",
    "data[data.IsHoliday==True][\"Weekly_Sales\"].plot(marker=\"D\",ax=ax[1],legend=\"Holiday Week sale\")\n",
    "data[\"Temperature\"].plot(ax=ax[2], title=\"Temperature\")\n",
    "data[\"Fuel_Price\"].plot(ax=ax[3],title=\"Fuel_Price\")\n",
    "data[\"CPI\"].plot(ax=ax[4],title=\"CPI\")\n",
    "data[\"Unemployment\"].plot(ax=ax[0],title=\"Unemployment\")\n"
   ]
  },
  {
   "cell_type": "markdown",
   "metadata": {
    "papermill": {
     "duration": 0.016726,
     "end_time": "2020-08-11T08:40:55.407944",
     "exception": false,
     "start_time": "2020-08-11T08:40:55.391218",
     "status": "completed"
    },
    "tags": []
   },
   "source": [
    "\n",
    "* November - december ther is spike in weekly sales, average is same for the rest of the year.\n",
    "* Weeks nearby holiday shows peak\n",
    "* Fuel Price and Consumer Price Index shown growth over the year.\n",
    "* Unemployment decreased year after year.\n",
    "* Temperature is showing a random walk\n"
   ]
  },
  {
   "cell_type": "code",
   "execution_count": 9,
   "metadata": {
    "execution": {
     "iopub.execute_input": "2020-08-11T08:40:55.450986Z",
     "iopub.status.busy": "2020-08-11T08:40:55.450164Z",
     "iopub.status.idle": "2020-08-11T08:40:55.894683Z",
     "shell.execute_reply": "2020-08-11T08:40:55.893790Z"
    },
    "papermill": {
     "duration": 0.470775,
     "end_time": "2020-08-11T08:40:55.894833",
     "exception": false,
     "start_time": "2020-08-11T08:40:55.424058",
     "status": "completed"
    },
    "tags": []
   },
   "outputs": [
    {
     "data": {
      "text/plain": [
       "<AxesSubplot:>"
      ]
     },
     "execution_count": 9,
     "metadata": {},
     "output_type": "execute_result"
    },
    {
     "data": {
      "image/png": "[encoded data removed]",
      "text/plain": [
       "<Figure size 432x288 with 2 Axes>"
      ]
     },
     "metadata": {},
     "output_type": "display_data"
    }
   ],
   "source": [
    "sns.heatmap(data.corr(),annot=True)"
   ]
  },
  {
   "cell_type": "markdown",
   "metadata": {
    "papermill": {
     "duration": 0.016572,
     "end_time": "2020-08-11T08:40:55.928416",
     "exception": false,
     "start_time": "2020-08-11T08:40:55.911844",
     "status": "completed"
    },
    "tags": []
   },
   "source": [
    "* Weekly sales doesnot show any high correlation with any other parameters.\n",
    "* CPI and Unemployment  shows negative correlation on other hand Fuel Price show positive correlation\n",
    "* Unemployment and Fuel price are also negatively correlated"
   ]
  },
  {
   "cell_type": "code",
   "execution_count": 10,
   "metadata": {
    "execution": {
     "iopub.execute_input": "2020-08-11T08:40:56.093831Z",
     "iopub.status.busy": "2020-08-11T08:40:55.976517Z",
     "iopub.status.idle": "2020-08-11T08:40:56.333632Z",
     "shell.execute_reply": "2020-08-11T08:40:56.332807Z"
    },
    "papermill": {
     "duration": 0.388632,
     "end_time": "2020-08-11T08:40:56.333772",
     "exception": false,
     "start_time": "2020-08-11T08:40:55.945140",
     "status": "completed"
    },
    "tags": []
   },
   "outputs": [
    {
     "data": {
      "text/plain": [
       "Text(0, 0.5, 'Sales')"
      ]
     },
     "execution_count": 10,
     "metadata": {},
     "output_type": "execute_result"
    },
    {
     "data": {
      "image/png": "[encoded data removed]",
      "text/plain": [
       "<Figure size 720x360 with 1 Axes>"
      ]
     },
     "metadata": {},
     "output_type": "display_data"
    }
   ],
   "source": [
    "\n",
    "data_sales_month = data.groupby(data.index.month).agg({\"Weekly_Sales\":\"sum\"})\n",
    "plt.figure(figsize=(10, 5))\n",
    "sns.barplot(x=data_sales_month.index,y=data_sales_month.Weekly_Sales, palette=\"Blues_d\")\n",
    "plt.title(\"Month wise Sales\")\n",
    "plt.xlabel(\"Month\")\n",
    "plt.ylabel(\"Sales\")"
   ]
  },
  {
   "cell_type": "markdown",
   "metadata": {
    "papermill": {
     "duration": 0.016749,
     "end_time": "2020-08-11T08:40:56.367901",
     "exception": false,
     "start_time": "2020-08-11T08:40:56.351152",
     "status": "completed"
    },
    "tags": []
   },
   "source": [
    "* It could be as Enough buying during offer and holidays (Black friday Sales,Chrismas,New year) and later sales go down and then again gaining momentum in some months.\n",
    "* In Nov also people show less buying can be waiting period for upcoming sales.\n",
    "* whole data for Dec-2013 I guess is not available so even after spike in Dec the sales are not gone very high."
   ]
  },
  {
   "cell_type": "code",
   "execution_count": 11,
   "metadata": {
    "execution": {
     "iopub.execute_input": "2020-08-11T08:40:56.422172Z",
     "iopub.status.busy": "2020-08-11T08:40:56.416949Z",
     "iopub.status.idle": "2020-08-11T08:40:56.576637Z",
     "shell.execute_reply": "2020-08-11T08:40:56.577306Z"
    },
    "papermill": {
     "duration": 0.191702,
     "end_time": "2020-08-11T08:40:56.577510",
     "exception": false,
     "start_time": "2020-08-11T08:40:56.385808",
     "status": "completed"
    },
    "tags": []
   },
   "outputs": [
    {
     "data": {
      "text/plain": [
       "Text(0, 0.5, 'Sales')"
      ]
     },
     "execution_count": 11,
     "metadata": {},
     "output_type": "execute_result"
    },
    {
     "data": {
      "image/png": "[encoded data removed]",
      "text/plain": [
       "<Figure size 432x288 with 1 Axes>"
      ]
     },
     "metadata": {},
     "output_type": "display_data"
    }
   ],
   "source": [
    "data_sales_year = data.groupby(data.index.year).agg({\"Weekly_Sales\":\"sum\"})\n",
    "\n",
    "sns.barplot(x=data_sales_year.index,y=data_sales_year.Weekly_Sales,  palette=\"Reds_d\")\n",
    "plt.title(\"Year wise Sales\")\n",
    "plt.xlabel(\"Year\")\n",
    "plt.ylabel(\"Sales\")\n"
   ]
  },
  {
   "cell_type": "markdown",
   "metadata": {
    "papermill": {
     "duration": 0.018486,
     "end_time": "2020-08-11T08:40:57.200349",
     "exception": false,
     "start_time": "2020-08-11T08:40:57.181863",
     "status": "completed"
    },
    "tags": []
   },
   "source": [
    "<a id=\"3\"></a> <br>\n",
    "# **Analysis Storewise**\n",
    "\n",
    "lets explore the pattern in store for weekly sales data"
   ]
  },
  {
   "cell_type": "code",
   "execution_count": 12,
   "metadata": {
    "execution": {
     "iopub.execute_input": "2020-08-11T08:40:57.250456Z",
     "iopub.status.busy": "2020-08-11T08:40:57.248288Z",
     "iopub.status.idle": "2020-08-11T08:40:57.280334Z",
     "shell.execute_reply": "2020-08-11T08:40:57.279610Z"
    },
    "papermill": {
     "duration": 0.060851,
     "end_time": "2020-08-11T08:40:57.280482",
     "exception": false,
     "start_time": "2020-08-11T08:40:57.219631",
     "status": "completed"
    },
    "tags": []
   },
   "outputs": [],
   "source": [
    "data_Store = data_feature.groupby(\"Store\").agg({\"Temperature\":\"mean\",\"Fuel_Price\":\"mean\",\"IsHoliday\":\"sum\"})\n",
    "temp_store = data_sales.groupby(\"Store\").agg({\"Weekly_Sales\":\"sum\"})\n",
    "temp_store.Weekly_Sales = temp_store.Weekly_Sales/1000000\n",
    "temp_store.Weekly_Sales = temp_store.Weekly_Sales.apply(int)\n",
    "data_Store.set_index(np.arange(0,45),inplace=True)\n",
    "data_store[\"temp\"] = data_Store.Temperature\n",
    "data_store[\"Fuel_Price\"] = data_Store.Fuel_Price\n",
    "data_store[\"holiday\"] = data_Store.IsHoliday\n",
    "data_store[\"Weekly_Sales\"] = temp_store.Weekly_Sales"
   ]
  },
  {
   "cell_type": "code",
   "execution_count": 13,
   "metadata": {
    "execution": {
     "iopub.execute_input": "2020-08-11T08:40:57.334951Z",
     "iopub.status.busy": "2020-08-11T08:40:57.328737Z",
     "iopub.status.idle": "2020-08-11T08:40:57.366058Z",
     "shell.execute_reply": "2020-08-11T08:40:57.366673Z"
    },
    "papermill": {
     "duration": 0.066687,
     "end_time": "2020-08-11T08:40:57.366889",
     "exception": false,
     "start_time": "2020-08-11T08:40:57.300202",
     "status": "completed"
    },
    "tags": []
   },
   "outputs": [
    {
     "data": {
      "text/html": [
       "<div>\n",
       "<style scoped>\n",
       "    .dataframe tbody tr th:only-of-type {\n",
       "        vertical-align: middle;\n",
       "    }\n",
       "\n",
       "    .dataframe tbody tr th {\n",
       "        vertical-align: top;\n",
       "    }\n",
       "\n",
       "    .dataframe thead th {\n",
       "        text-align: right;\n",
       "    }\n",
       "</style>\n",
       "<table border=\"1\" class=\"dataframe\">\n",
       "  <thead>\n",
       "    <tr style=\"text-align: right;\">\n",
       "      <th></th>\n",
       "      <th>Store</th>\n",
       "      <th>Size</th>\n",
       "      <th>temp</th>\n",
       "      <th>Fuel_Price</th>\n",
       "      <th>holiday</th>\n",
       "      <th>Weekly_Sales</th>\n",
       "    </tr>\n",
       "  </thead>\n",
       "  <tbody>\n",
       "    <tr>\n",
       "      <th>count</th>\n",
       "      <td>45.000000</td>\n",
       "      <td>45.000000</td>\n",
       "      <td>45.000000</td>\n",
       "      <td>45.000000</td>\n",
       "      <td>45.0</td>\n",
       "      <td>44.000000</td>\n",
       "    </tr>\n",
       "    <tr>\n",
       "      <th>mean</th>\n",
       "      <td>23.000000</td>\n",
       "      <td>130287.600000</td>\n",
       "      <td>59.356198</td>\n",
       "      <td>3.405992</td>\n",
       "      <td>13.0</td>\n",
       "      <td>150.090909</td>\n",
       "    </tr>\n",
       "    <tr>\n",
       "      <th>std</th>\n",
       "      <td>13.133926</td>\n",
       "      <td>63825.271991</td>\n",
       "      <td>9.956122</td>\n",
       "      <td>0.153935</td>\n",
       "      <td>0.0</td>\n",
       "      <td>78.780478</td>\n",
       "    </tr>\n",
       "    <tr>\n",
       "      <th>min</th>\n",
       "      <td>1.000000</td>\n",
       "      <td>34875.000000</td>\n",
       "      <td>37.921264</td>\n",
       "      <td>3.245945</td>\n",
       "      <td>13.0</td>\n",
       "      <td>37.000000</td>\n",
       "    </tr>\n",
       "    <tr>\n",
       "      <th>25%</th>\n",
       "      <td>12.000000</td>\n",
       "      <td>70713.000000</td>\n",
       "      <td>51.866319</td>\n",
       "      <td>3.259242</td>\n",
       "      <td>13.0</td>\n",
       "      <td>78.500000</td>\n",
       "    </tr>\n",
       "    <tr>\n",
       "      <th>50%</th>\n",
       "      <td>23.000000</td>\n",
       "      <td>126512.000000</td>\n",
       "      <td>58.107912</td>\n",
       "      <td>3.328764</td>\n",
       "      <td>13.0</td>\n",
       "      <td>140.500000</td>\n",
       "    </tr>\n",
       "    <tr>\n",
       "      <th>75%</th>\n",
       "      <td>34.000000</td>\n",
       "      <td>202307.000000</td>\n",
       "      <td>68.504670</td>\n",
       "      <td>3.497874</td>\n",
       "      <td>13.0</td>\n",
       "      <td>200.750000</td>\n",
       "    </tr>\n",
       "    <tr>\n",
       "      <th>max</th>\n",
       "      <td>45.000000</td>\n",
       "      <td>219622.000000</td>\n",
       "      <td>75.438077</td>\n",
       "      <td>3.643654</td>\n",
       "      <td>13.0</td>\n",
       "      <td>301.000000</td>\n",
       "    </tr>\n",
       "  </tbody>\n",
       "</table>\n",
       "</div>"
      ],
      "text/plain": [
       "           Store           Size       temp  Fuel_Price  holiday  Weekly_Sales\n",
       "count  45.000000      45.000000  45.000000   45.000000     45.0     44.000000\n",
       "mean   23.000000  130287.600000  59.356198    3.405992     13.0    150.090909\n",
       "std    13.133926   63825.271991   9.956122    0.153935      0.0     78.780478\n",
       "min     1.000000   34875.000000  37.921264    3.245945     13.0     37.000000\n",
       "25%    12.000000   70713.000000  51.866319    3.259242     13.0     78.500000\n",
       "50%    23.000000  126512.000000  58.107912    3.328764     13.0    140.500000\n",
       "75%    34.000000  202307.000000  68.504670    3.497874     13.0    200.750000\n",
       "max    45.000000  219622.000000  75.438077    3.643654     13.0    301.000000"
      ]
     },
     "execution_count": 13,
     "metadata": {},
     "output_type": "execute_result"
    }
   ],
   "source": [
    "data_store.describe()"
   ]
  },
  {
   "cell_type": "code",
   "execution_count": 14,
   "metadata": {
    "execution": {
     "iopub.execute_input": "2020-08-11T08:40:57.422857Z",
     "iopub.status.busy": "2020-08-11T08:40:57.421962Z",
     "iopub.status.idle": "2020-08-11T08:40:57.881520Z",
     "shell.execute_reply": "2020-08-11T08:40:57.882184Z"
    },
    "papermill": {
     "duration": 0.495859,
     "end_time": "2020-08-11T08:40:57.882383",
     "exception": false,
     "start_time": "2020-08-11T08:40:57.386524",
     "status": "completed"
    },
    "tags": []
   },
   "outputs": [
    {
     "name": "stderr",
     "output_type": "stream",
     "text": [
      "C:\\Users\\hp\\anaconda3\\lib\\site-packages\\seaborn\\_decorators.py:36: FutureWarning: Pass the following variable as a keyword arg: x. From version 0.12, the only valid positional argument will be `data`, and passing other arguments without an explicit keyword will result in an error or misinterpretation.\n",
      "  warnings.warn(\n"
     ]
    },
    {
     "data": {
      "text/plain": [
       "<AxesSubplot:xlabel='Type', ylabel='Weekly_Sales'>"
      ]
     },
     "execution_count": 14,
     "metadata": {},
     "output_type": "execute_result"
    },
    {
     "data": {
      "image/png": "[encoded data removed]",
      "text/plain": [
       "<Figure size 1080x288 with 3 Axes>"
      ]
     },
     "metadata": {},
     "output_type": "display_data"
    }
   ],
   "source": [
    "fig,ax = plt.subplots(1,3,figsize=(15, 4))\n",
    "sns.countplot(data_store.Type,ax=ax[0], palette= 'icefire' )\n",
    "sns.swarmplot(data = data_store,y=\"Size\",x=\"Type\",ax=ax[1], palette= \"coolwarm_r\")\n",
    "\n",
    "sns.boxplot(data = data_store,y=\"Weekly_Sales\",x=\"Type\",ax=ax[2], )\n",
    "\n"
   ]
  },
  {
   "cell_type": "markdown",
   "metadata": {
    "papermill": {
     "duration": 0.020692,
     "end_time": "2020-08-11T08:40:57.924251",
     "exception": false,
     "start_time": "2020-08-11T08:40:57.903559",
     "status": "completed"
    },
    "tags": []
   },
   "source": [
    "* Store Count is in the order of A, B and least is C \n",
    "* Size wise A store as most no of Item followed by B and than C\n",
    "* Even After less Count of Store and lesser Size B has more Weekly Sales than A and C at the least."
   ]
  },
  {
   "cell_type": "markdown",
   "metadata": {
    "papermill": {
     "duration": 0.021008,
     "end_time": "2020-08-11T08:40:57.966124",
     "exception": false,
     "start_time": "2020-08-11T08:40:57.945116",
     "status": "completed"
    },
    "tags": []
   },
   "source": [
    "<a id=\"4\"></a> <br>\n",
    "# **Analysis Departmentwise**\n",
    "\n",
    "A little Invesigation on Department"
   ]
  },
  {
   "cell_type": "code",
   "execution_count": 15,
   "metadata": {
    "execution": {
     "iopub.execute_input": "2020-08-11T08:40:58.020130Z",
     "iopub.status.busy": "2020-08-11T08:40:58.018832Z",
     "iopub.status.idle": "2020-08-11T08:40:58.032915Z",
     "shell.execute_reply": "2020-08-11T08:40:58.031945Z"
    },
    "papermill": {
     "duration": 0.043186,
     "end_time": "2020-08-11T08:40:58.033133",
     "exception": false,
     "start_time": "2020-08-11T08:40:57.989947",
     "status": "completed"
    },
    "tags": []
   },
   "outputs": [
    {
     "data": {
      "text/plain": [
       "81"
      ]
     },
     "execution_count": 15,
     "metadata": {},
     "output_type": "execute_result"
    }
   ],
   "source": [
    "len(data_sales[\"Dept\"].unique())"
   ]
  },
  {
   "cell_type": "code",
   "execution_count": 16,
   "metadata": {
    "_kg_hide-output": true,
    "execution": {
     "iopub.execute_input": "2020-08-11T08:40:58.083477Z",
     "iopub.status.busy": "2020-08-11T08:40:58.082585Z",
     "iopub.status.idle": "2020-08-11T08:40:58.109956Z",
     "shell.execute_reply": "2020-08-11T08:40:58.109247Z"
    },
    "papermill": {
     "duration": 0.055264,
     "end_time": "2020-08-11T08:40:58.110119",
     "exception": false,
     "start_time": "2020-08-11T08:40:58.054855",
     "status": "completed"
    },
    "tags": []
   },
   "outputs": [
    {
     "data": {
      "text/html": [
       "<div>\n",
       "<style scoped>\n",
       "    .dataframe tbody tr th:only-of-type {\n",
       "        vertical-align: middle;\n",
       "    }\n",
       "\n",
       "    .dataframe tbody tr th {\n",
       "        vertical-align: top;\n",
       "    }\n",
       "\n",
       "    .dataframe thead th {\n",
       "        text-align: right;\n",
       "    }\n",
       "</style>\n",
       "<table border=\"1\" class=\"dataframe\">\n",
       "  <thead>\n",
       "    <tr style=\"text-align: right;\">\n",
       "      <th></th>\n",
       "      <th>Weekly_Sales</th>\n",
       "    </tr>\n",
       "    <tr>\n",
       "      <th>Dept</th>\n",
       "      <th></th>\n",
       "    </tr>\n",
       "  </thead>\n",
       "  <tbody>\n",
       "    <tr>\n",
       "      <th>39</th>\n",
       "      <td>0</td>\n",
       "    </tr>\n",
       "    <tr>\n",
       "      <th>78</th>\n",
       "      <td>0</td>\n",
       "    </tr>\n",
       "    <tr>\n",
       "      <th>43</th>\n",
       "      <td>0</td>\n",
       "    </tr>\n",
       "    <tr>\n",
       "      <th>47</th>\n",
       "      <td>0</td>\n",
       "    </tr>\n",
       "    <tr>\n",
       "      <th>51</th>\n",
       "      <td>3</td>\n",
       "    </tr>\n",
       "    <tr>\n",
       "      <th>...</th>\n",
       "      <td>...</td>\n",
       "    </tr>\n",
       "    <tr>\n",
       "      <th>90</th>\n",
       "      <td>29106</td>\n",
       "    </tr>\n",
       "    <tr>\n",
       "      <th>72</th>\n",
       "      <td>30572</td>\n",
       "    </tr>\n",
       "    <tr>\n",
       "      <th>38</th>\n",
       "      <td>39311</td>\n",
       "    </tr>\n",
       "    <tr>\n",
       "      <th>95</th>\n",
       "      <td>44932</td>\n",
       "    </tr>\n",
       "    <tr>\n",
       "      <th>92</th>\n",
       "      <td>48394</td>\n",
       "    </tr>\n",
       "  </tbody>\n",
       "</table>\n",
       "<p>81 rows × 1 columns</p>\n",
       "</div>"
      ],
      "text/plain": [
       "      Weekly_Sales\n",
       "Dept              \n",
       "39               0\n",
       "78               0\n",
       "43               0\n",
       "47               0\n",
       "51               3\n",
       "...            ...\n",
       "90           29106\n",
       "72           30572\n",
       "38           39311\n",
       "95           44932\n",
       "92           48394\n",
       "\n",
       "[81 rows x 1 columns]"
      ]
     },
     "execution_count": 16,
     "metadata": {},
     "output_type": "execute_result"
    }
   ],
   "source": [
    "data_Dept = data_sales.groupby(\"Dept\").agg({\"Weekly_Sales\":\"sum\"})\n",
    "data_Dept.Weekly_Sales = data_Dept.Weekly_Sales/10000\n",
    "data_Dept.Weekly_Sales = data_Dept.Weekly_Sales.apply(int)\n",
    "data_Dept.sort_values(by=\"Weekly_Sales\")"
   ]
  },
  {
   "cell_type": "code",
   "execution_count": 17,
   "metadata": {
    "execution": {
     "iopub.execute_input": "2020-08-11T08:40:58.168556Z",
     "iopub.status.busy": "2020-08-11T08:40:58.161052Z",
     "iopub.status.idle": "2020-08-11T08:40:58.383758Z",
     "shell.execute_reply": "2020-08-11T08:40:58.382952Z"
    },
    "papermill": {
     "duration": 0.253171,
     "end_time": "2020-08-11T08:40:58.383904",
     "exception": false,
     "start_time": "2020-08-11T08:40:58.130733",
     "status": "completed"
    },
    "tags": []
   },
   "outputs": [
    {
     "data": {
      "text/plain": [
       "Text(0.5, 0, 'Department')"
      ]
     },
     "execution_count": 17,
     "metadata": {},
     "output_type": "execute_result"
    },
    {
     "data": {
      "image/png": "[encoded data removed]",
      "text/plain": [
       "<Figure size 1080x288 with 1 Axes>"
      ]
     },
     "metadata": {},
     "output_type": "display_data"
    }
   ],
   "source": [
    "fig1, ax1 = plt.subplots(figsize=(15, 4))\n",
    "#ordered_df = data_Dept.sort_values(by='Weekly_Sales')\n",
    "plt.vlines(x=data_Dept.index, ymin=0, ymax=data_Dept['Weekly_Sales'], color='purple')\n",
    "plt.plot(data_Dept.index,data_Dept['Weekly_Sales'], \"o\", )\n",
    "plt.title(\"Departmentwise Sales\")\n",
    "plt.ylabel(\"Sales\")\n",
    "plt.xlabel(\"Department\")"
   ]
  },
  {
   "cell_type": "markdown",
   "metadata": {
    "papermill": {
     "duration": 0.020952,
     "end_time": "2020-08-11T08:40:58.426446",
     "exception": false,
     "start_time": "2020-08-11T08:40:58.405494",
     "status": "completed"
    },
    "tags": []
   },
   "source": [
    "* Here  we can see department 1-15 as well as 90-95 has shown  higher weekly sales.\n",
    "* some department as 38,40,72 has shown higher weekly sales."
   ]
  },
  {
   "cell_type": "markdown",
   "metadata": {
    "papermill": {
     "duration": 0.020831,
     "end_time": "2020-08-11T08:40:58.468892",
     "exception": false,
     "start_time": "2020-08-11T08:40:58.448061",
     "status": "completed"
    },
    "tags": []
   },
   "source": [
    "<a id=\"5\"></a> <br>\n",
    "# Analysis Store Type and Year/Month Wise "
   ]
  },
  {
   "cell_type": "code",
   "execution_count": 18,
   "metadata": {
    "execution": {
     "iopub.execute_input": "2020-08-11T08:40:58.521884Z",
     "iopub.status.busy": "2020-08-11T08:40:58.520565Z",
     "iopub.status.idle": "2020-08-11T08:40:58.604210Z",
     "shell.execute_reply": "2020-08-11T08:40:58.604837Z"
    },
    "papermill": {
     "duration": 0.115065,
     "end_time": "2020-08-11T08:40:58.605050",
     "exception": false,
     "start_time": "2020-08-11T08:40:58.489985",
     "status": "completed"
    },
    "tags": []
   },
   "outputs": [],
   "source": [
    "sales_date_store = data_sales.groupby([\"Date\",\"Store\"]).agg({\"Weekly_Sales\":\"sum\"})\n",
    "sales_date_store.sort_index(inplace=True)\n",
    "sales_date_store.Weekly_Sales = sales_date_store.Weekly_Sales/10000\n",
    "sales_date_store.Weekly_Sales = sales_date_store.Weekly_Sales.apply(int)\n",
    "data_table = pd.merge(data_feature,sales_date_store ,  how='left', on=[\"Date\",\"Store\"])\n",
    "data_table = pd.merge(data_table,data_store[[\"Store\",\"Type\"]] ,  how='left', on=[\"Store\"])\n",
    "pd.to_datetime(data_table['Date'])\n",
    "data_table.head()\n",
    "data_train = data_table[data_table.Weekly_Sales.notnull()]\n",
    "data_test = data_table[data_table.Weekly_Sales.isnull()]"
   ]
  },
  {
   "cell_type": "code",
   "execution_count": 19,
   "metadata": {
    "execution": {
     "iopub.execute_input": "2020-08-11T08:40:58.656696Z",
     "iopub.status.busy": "2020-08-11T08:40:58.655548Z",
     "iopub.status.idle": "2020-08-11T08:40:59.299932Z",
     "shell.execute_reply": "2020-08-11T08:40:59.299195Z"
    },
    "papermill": {
     "duration": 0.672115,
     "end_time": "2020-08-11T08:40:59.300096",
     "exception": false,
     "start_time": "2020-08-11T08:40:58.627981",
     "status": "completed"
    },
    "tags": []
   },
   "outputs": [
    {
     "data": {
      "text/plain": [
       "<AxesSubplot:xlabel='Date', ylabel='Weekly_Sales'>"
      ]
     },
     "execution_count": 19,
     "metadata": {},
     "output_type": "execute_result"
    },
    {
     "data": {
      "image/png": "[encoded data removed]",
      "text/plain": [
       "<Figure size 1080x360 with 1 Axes>"
      ]
     },
     "metadata": {},
     "output_type": "display_data"
    }
   ],
   "source": [
    "plt.figure(figsize=(15, 5))\n",
    "sns.barplot(x=data_train.Date.dt.year, y=data_train.Weekly_Sales, palette= \"inferno\", hue=data_train.Type)"
   ]
  },
  {
   "cell_type": "markdown",
   "metadata": {
    "papermill": {
     "duration": 0.021685,
     "end_time": "2020-08-11T08:40:59.344529",
     "exception": false,
     "start_time": "2020-08-11T08:40:59.322844",
     "status": "completed"
    },
    "tags": []
   },
   "source": [
    "* Store Type A & B has shown slight decrease year on basis in sales.\n",
    "* Store C has shown a slight increase in sales."
   ]
  },
  {
   "cell_type": "code",
   "execution_count": 20,
   "metadata": {
    "execution": {
     "iopub.execute_input": "2020-08-11T08:40:59.396858Z",
     "iopub.status.busy": "2020-08-11T08:40:59.395502Z",
     "iopub.status.idle": "2020-08-11T08:41:01.381377Z",
     "shell.execute_reply": "2020-08-11T08:41:01.380754Z"
    },
    "papermill": {
     "duration": 2.015328,
     "end_time": "2020-08-11T08:41:01.381528",
     "exception": false,
     "start_time": "2020-08-11T08:40:59.366200",
     "status": "completed"
    },
    "tags": []
   },
   "outputs": [
    {
     "data": {
      "text/plain": [
       "<AxesSubplot:xlabel='Date', ylabel='Weekly_Sales'>"
      ]
     },
     "execution_count": 20,
     "metadata": {},
     "output_type": "execute_result"
    },
    {
     "data": {
      "image/png": "[encoded data removed]",
      "text/plain": [
       "<Figure size 1080x504 with 1 Axes>"
      ]
     },
     "metadata": {},
     "output_type": "display_data"
    }
   ],
   "source": [
    "plt.figure(figsize=(15, 7))\n",
    "sns.barplot(x=data_train.Date.dt.month, y=data_train.Weekly_Sales,hue=data_train.Type, palette= \"inferno\")"
   ]
  },
  {
   "cell_type": "markdown",
   "metadata": {
    "papermill": {
     "duration": 0.021719,
     "end_time": "2020-08-11T08:41:01.425199",
     "exception": false,
     "start_time": "2020-08-11T08:41:01.403480",
     "status": "completed"
    },
    "tags": []
   },
   "source": [
    "* Type A & B store show spike in Nov Dec mostly due to holiday whereas jan has shown decrease in sale.\n",
    "* Type C is consistent over every month and doesnot show much deviation.\n",
    "   "
   ]
  },
  {
   "cell_type": "markdown",
   "metadata": {
    "papermill": {
     "duration": 0.024744,
     "end_time": "2020-08-11T08:41:03.981948",
     "exception": false,
     "start_time": "2020-08-11T08:41:03.957204",
     "status": "completed"
    },
    "tags": []
   },
   "source": [
    "<a id=\"7\"></a> <br>\n",
    "# **Prediction on Date and Store**"
   ]
  },
  {
   "cell_type": "code",
   "execution_count": 21,
   "metadata": {
    "execution": {
     "iopub.execute_input": "2020-08-11T08:41:04.109670Z",
     "iopub.status.busy": "2020-08-11T08:41:04.108566Z",
     "iopub.status.idle": "2020-08-11T08:41:13.804327Z",
     "shell.execute_reply": "2020-08-11T08:41:13.803418Z"
    },
    "papermill": {
     "duration": 9.795552,
     "end_time": "2020-08-11T08:41:13.804475",
     "exception": false,
     "start_time": "2020-08-11T08:41:04.008923",
     "status": "completed"
    },
    "tags": []
   },
   "outputs": [],
   "source": [
    "\n",
    "from fancyimpute import IterativeImputer\n",
    "from sklearn.metrics import mean_squared_error\n",
    "\n",
    "from sklearn.svm import SVR, LinearSVR\n",
    "from sklearn.linear_model import ElasticNet, Lasso, RidgeCV,LinearRegression\n",
    "from sklearn.kernel_ridge import KernelRidge\n",
    "from sklearn.tree import DecisionTreeRegressor\n",
    "from sklearn.ensemble import GradientBoostingRegressor,AdaBoostRegressor,RandomForestRegressor\n",
    "import xgboost as xgb\n",
    "import lightgbm as lgb"
   ]
  },
  {
   "cell_type": "markdown",
   "metadata": {
    "papermill": {
     "duration": 0.02485,
     "end_time": "2020-08-11T08:41:13.855127",
     "exception": false,
     "start_time": "2020-08-11T08:41:13.830277",
     "status": "completed"
    },
    "tags": []
   },
   "source": [
    "**Clean up and preprocessing**"
   ]
  },
  {
   "cell_type": "code",
   "execution_count": 22,
   "metadata": {
    "_kg_hide-input": true,
    "execution": {
     "iopub.execute_input": "2020-08-11T08:41:13.921416Z",
     "iopub.status.busy": "2020-08-11T08:41:13.920293Z",
     "iopub.status.idle": "2020-08-11T08:41:13.923939Z",
     "shell.execute_reply": "2020-08-11T08:41:13.923142Z"
    },
    "papermill": {
     "duration": 0.043704,
     "end_time": "2020-08-11T08:41:13.924106",
     "exception": false,
     "start_time": "2020-08-11T08:41:13.880402",
     "status": "completed"
    },
    "tags": []
   },
   "outputs": [],
   "source": [
    "def createdummies(data,cols):\n",
    "    for col in cols:\n",
    "        one_hot = pd.get_dummies(data[col],prefix=col)\n",
    "        data = data.join(one_hot)\n",
    "        data.drop(col,axis = 1,inplace=True)\n",
    "    \n",
    "    return data\n",
    "        "
   ]
  },
  {
   "cell_type": "code",
   "execution_count": 23,
   "metadata": {
    "_kg_hide-input": false,
    "execution": {
     "iopub.execute_input": "2020-08-11T08:41:13.996440Z",
     "iopub.status.busy": "2020-08-11T08:41:13.995575Z",
     "iopub.status.idle": "2020-08-11T08:41:14.172474Z",
     "shell.execute_reply": "2020-08-11T08:41:14.170233Z"
    },
    "papermill": {
     "duration": 0.222933,
     "end_time": "2020-08-11T08:41:14.172732",
     "exception": false,
     "start_time": "2020-08-11T08:41:13.949799",
     "status": "completed"
    },
    "tags": []
   },
   "outputs": [],
   "source": [
    "\n",
    "# imputing the missing value\n",
    "itt = IterativeImputer()\n",
    "df = itt.fit_transform(data_table[[\"MarkDown1\",\"MarkDown2\",\"MarkDown3\",\"MarkDown4\",\"MarkDown5\"]]) \n",
    "data_table.MarkDown1 = df[:,0]\n",
    "data_table.MarkDown2 = df[:,1]\n",
    "data_table.MarkDown3 = df[:,2]\n",
    "data_table.MarkDown4 = df[:,3]\n",
    "data_table.MarkDown5 = df[:,4]\n",
    "\n",
    "data_table['CPI'].fillna((data_table['CPI'].mean()), inplace=True)\n",
    "data_table['Unemployment'].fillna((data_table['Unemployment'].mean()), inplace=True)\n",
    "data_table['IsHoliday'] = data_table['IsHoliday'].map({True:0,False:1})\n",
    "\n",
    "#create new column\n",
    "pd.to_datetime(data_table['Date'])\n",
    "data_table[\"Month\"] = data_table.Date.dt.month\n",
    "data_table[\"Year\"] = data_table.Date.dt.year\n",
    "data_table.head()\n",
    "# data_table[\"WeekofYear\"] = data_table.Date.dt.weekofyear\n",
    "data_table.drop(['Date'],axis=1,inplace= True)\n",
    "\n",
    "# create dummies out of categorical column\n",
    "data_table = createdummies(data_table,[\"Type\",\"Month\",\"Year\"])\n",
    "\n"
   ]
  },
  {
   "cell_type": "code",
   "execution_count": 24,
   "metadata": {
    "_kg_hide-input": true,
    "_kg_hide-output": true,
    "execution": {
     "iopub.execute_input": "2020-08-11T08:41:14.257650Z",
     "iopub.status.busy": "2020-08-11T08:41:14.256602Z",
     "iopub.status.idle": "2020-08-11T08:41:14.261748Z",
     "shell.execute_reply": "2020-08-11T08:41:14.261093Z"
    },
    "papermill": {
     "duration": 0.049265,
     "end_time": "2020-08-11T08:41:14.261885",
     "exception": false,
     "start_time": "2020-08-11T08:41:14.212620",
     "status": "completed"
    },
    "tags": []
   },
   "outputs": [
    {
     "data": {
      "text/plain": [
       "Index(['Store', 'Temperature', 'Fuel_Price', 'MarkDown1', 'MarkDown2',\n",
       "       'MarkDown3', 'MarkDown4', 'MarkDown5', 'CPI', 'Unemployment',\n",
       "       'IsHoliday', 'Weekly_Sales', 'Type_A', 'Type_B', 'Type_C', 'Month_1',\n",
       "       'Month_2', 'Month_3', 'Month_4', 'Month_5', 'Month_6', 'Month_7',\n",
       "       'Month_8', 'Month_9', 'Month_10', 'Month_11', 'Month_12', 'Year_2010',\n",
       "       'Year_2011', 'Year_2012', 'Year_2013'],\n",
       "      dtype='object')"
      ]
     },
     "execution_count": 24,
     "metadata": {},
     "output_type": "execute_result"
    }
   ],
   "source": [
    "data_table.columns"
   ]
  },
  {
   "cell_type": "markdown",
   "metadata": {
    "papermill": {
     "duration": 0.025636,
     "end_time": "2020-08-11T08:41:14.313611",
     "exception": false,
     "start_time": "2020-08-11T08:41:14.287975",
     "status": "completed"
    },
    "tags": []
   },
   "source": [
    "**Data Split**"
   ]
  },
  {
   "cell_type": "code",
   "execution_count": 25,
   "metadata": {
    "execution": {
     "iopub.execute_input": "2020-08-11T08:41:14.377140Z",
     "iopub.status.busy": "2020-08-11T08:41:14.375830Z",
     "iopub.status.idle": "2020-08-11T08:41:14.388627Z",
     "shell.execute_reply": "2020-08-11T08:41:14.389304Z"
    },
    "papermill": {
     "duration": 0.049741,
     "end_time": "2020-08-11T08:41:14.389487",
     "exception": false,
     "start_time": "2020-08-11T08:41:14.339746",
     "status": "completed"
    },
    "tags": []
   },
   "outputs": [],
   "source": [
    "data_train = data_table[data_table.Weekly_Sales.notnull()]\n",
    "data_test = data_table[data_table.Weekly_Sales.isnull()]\n",
    "X = data_train.drop('Weekly_Sales', axis=1)\n",
    "y = data_train['Weekly_Sales']\n",
    "from sklearn.model_selection import train_test_split\n",
    "X_train, X_test, y_train, y_test = train_test_split(X, y, test_size=0.3)"
   ]
  },
  {
   "cell_type": "code",
   "execution_count": null,
   "metadata": {},
   "outputs": [],
   "source": []
  },
  {
   "cell_type": "code",
   "execution_count": null,
   "metadata": {},
   "outputs": [],
   "source": []
  },
  {
   "cell_type": "code",
   "execution_count": null,
   "metadata": {},
   "outputs": [],
   "source": []
  },
  {
   "cell_type": "code",
   "execution_count": null,
   "metadata": {},
   "outputs": [],
   "source": []
  },
  {
   "cell_type": "code",
   "execution_count": null,
   "metadata": {},
   "outputs": [],
   "source": []
  },
  {
   "cell_type": "code",
   "execution_count": null,
   "metadata": {},
   "outputs": [],
   "source": []
  },
  {
   "cell_type": "code",
   "execution_count": null,
   "metadata": {},
   "outputs": [],
   "source": []
  },
  {
   "cell_type": "code",
   "execution_count": null,
   "metadata": {},
   "outputs": [],
   "source": []
  },
  {
   "cell_type": "code",
   "execution_count": null,
   "metadata": {},
   "outputs": [],
   "source": []
  },
  {
   "cell_type": "code",
   "execution_count": null,
   "metadata": {},
   "outputs": [],
   "source": []
  },
  {
   "cell_type": "code",
   "execution_count": null,
   "metadata": {},
   "outputs": [],
   "source": []
  },
  {
   "cell_type": "code",
   "execution_count": null,
   "metadata": {},
   "outputs": [],
   "source": []
  },
  {
   "cell_type": "markdown",
   "metadata": {
    "papermill": {
     "duration": 0.02546,
     "end_time": "2020-08-11T08:41:14.441371",
     "exception": false,
     "start_time": "2020-08-11T08:41:14.415911",
     "status": "completed"
    },
    "tags": []
   },
   "source": [
    "**Basic Model Creation**"
   ]
  },
  {
   "cell_type": "code",
   "execution_count": 26,
   "metadata": {
    "execution": {
     "iopub.execute_input": "2020-08-11T08:41:14.508052Z",
     "iopub.status.busy": "2020-08-11T08:41:14.502859Z",
     "iopub.status.idle": "2020-08-11T08:42:22.547354Z",
     "shell.execute_reply": "2020-08-11T08:42:22.548133Z"
    },
    "papermill": {
     "duration": 68.081279,
     "end_time": "2020-08-11T08:42:22.548375",
     "exception": false,
     "start_time": "2020-08-11T08:41:14.467096",
     "status": "completed"
    },
    "tags": []
   },
   "outputs": [
    {
     "name": "stderr",
     "output_type": "stream",
     "text": [
      "C:\\Users\\hp\\anaconda3\\lib\\site-packages\\sklearn\\svm\\_base.py:985: ConvergenceWarning: Liblinear failed to converge, increase the number of iterations.\n",
      "  warnings.warn(\"Liblinear failed to converge, increase \"\n"
     ]
    }
   ],
   "source": [
    "\n",
    "\n",
    "\n",
    "classifiers = [\n",
    "    LinearRegression(),\n",
    "    RidgeCV(alphas=[1e-3, 1e-2, 1e-1, 1]),\n",
    "    Lasso(alpha =16, random_state=100),\n",
    "    ElasticNet(alpha=0.8),\n",
    "    DecisionTreeRegressor(),\n",
    "    RandomForestRegressor(),\n",
    "    GradientBoostingRegressor(),\n",
    "    AdaBoostRegressor(),\n",
    "    SVR(), \n",
    "    LinearSVR(), \n",
    "    xgb.XGBRegressor(),\n",
    "    lgb.LGBMRegressor()\n",
    "    ]\n",
    "\n",
    "name = []\n",
    "score = []\n",
    "models = []\n",
    "rmse = []\n",
    "i = 0\n",
    "for classifier in classifiers:\n",
    "    classifier.fit(X_train, y_train)   \n",
    "    name.append(type(classifier).__name__)\n",
    "    score.append(classifier.score(X_test, y_test))\n",
    "    models.append(classifier)\n",
    "    rmse.append(np.sqrt(mean_squared_error(classifier.predict(X_test), y_test)))\n"
   ]
  },
  {
   "cell_type": "markdown",
   "metadata": {
    "papermill": {
     "duration": 0.032183,
     "end_time": "2020-08-11T08:42:22.613773",
     "exception": false,
     "start_time": "2020-08-11T08:42:22.581590",
     "status": "completed"
    },
    "tags": []
   },
   "source": [
    "**Comparing Model Performance**"
   ]
  },
  {
   "cell_type": "code",
   "execution_count": 27,
   "metadata": {
    "execution": {
     "iopub.execute_input": "2020-08-11T08:42:22.690622Z",
     "iopub.status.busy": "2020-08-11T08:42:22.689662Z",
     "iopub.status.idle": "2020-08-11T08:42:22.977087Z",
     "shell.execute_reply": "2020-08-11T08:42:22.976384Z"
    },
    "papermill": {
     "duration": 0.330388,
     "end_time": "2020-08-11T08:42:22.977225",
     "exception": false,
     "start_time": "2020-08-11T08:42:22.646837",
     "status": "completed"
    },
    "tags": []
   },
   "outputs": [
    {
     "data": {
      "text/html": [
       "<div>\n",
       "<style scoped>\n",
       "    .dataframe tbody tr th:only-of-type {\n",
       "        vertical-align: middle;\n",
       "    }\n",
       "\n",
       "    .dataframe tbody tr th {\n",
       "        vertical-align: top;\n",
       "    }\n",
       "\n",
       "    .dataframe thead th {\n",
       "        text-align: right;\n",
       "    }\n",
       "</style>\n",
       "<table border=\"1\" class=\"dataframe\">\n",
       "  <thead>\n",
       "    <tr style=\"text-align: right;\">\n",
       "      <th></th>\n",
       "      <th>rmse</th>\n",
       "      <th>score</th>\n",
       "      <th>model</th>\n",
       "    </tr>\n",
       "    <tr>\n",
       "      <th>name</th>\n",
       "      <th></th>\n",
       "      <th></th>\n",
       "      <th></th>\n",
       "    </tr>\n",
       "  </thead>\n",
       "  <tbody>\n",
       "    <tr>\n",
       "      <th>XGBRegressor</th>\n",
       "      <td>10.606740</td>\n",
       "      <td>0.963732</td>\n",
       "      <td>XGBRegressor(base_score=0.5, booster='gbtree',...</td>\n",
       "    </tr>\n",
       "    <tr>\n",
       "      <th>LGBMRegressor</th>\n",
       "      <td>10.692344</td>\n",
       "      <td>0.963144</td>\n",
       "      <td>LGBMRegressor()</td>\n",
       "    </tr>\n",
       "    <tr>\n",
       "      <th>RandomForestRegressor</th>\n",
       "      <td>14.592190</td>\n",
       "      <td>0.931356</td>\n",
       "      <td>(DecisionTreeRegressor(max_features='auto', ra...</td>\n",
       "    </tr>\n",
       "    <tr>\n",
       "      <th>GradientBoostingRegressor</th>\n",
       "      <td>16.214722</td>\n",
       "      <td>0.915242</td>\n",
       "      <td>([DecisionTreeRegressor(criterion='friedman_ms...</td>\n",
       "    </tr>\n",
       "    <tr>\n",
       "      <th>DecisionTreeRegressor</th>\n",
       "      <td>19.455922</td>\n",
       "      <td>0.877971</td>\n",
       "      <td>DecisionTreeRegressor()</td>\n",
       "    </tr>\n",
       "    <tr>\n",
       "      <th>AdaBoostRegressor</th>\n",
       "      <td>35.415617</td>\n",
       "      <td>0.595657</td>\n",
       "      <td>(DecisionTreeRegressor(max_depth=3, random_sta...</td>\n",
       "    </tr>\n",
       "    <tr>\n",
       "      <th>LinearRegression</th>\n",
       "      <td>39.247236</td>\n",
       "      <td>0.503432</td>\n",
       "      <td>LinearRegression()</td>\n",
       "    </tr>\n",
       "    <tr>\n",
       "      <th>RidgeCV</th>\n",
       "      <td>39.247557</td>\n",
       "      <td>0.503424</td>\n",
       "      <td>RidgeCV(alphas=array([0.001, 0.01 , 0.1  , 1. ...</td>\n",
       "    </tr>\n",
       "    <tr>\n",
       "      <th>ElasticNet</th>\n",
       "      <td>42.829383</td>\n",
       "      <td>0.408651</td>\n",
       "      <td>ElasticNet(alpha=0.8)</td>\n",
       "    </tr>\n",
       "    <tr>\n",
       "      <th>Lasso</th>\n",
       "      <td>50.112899</td>\n",
       "      <td>0.190420</td>\n",
       "      <td>Lasso(alpha=16, random_state=100)</td>\n",
       "    </tr>\n",
       "    <tr>\n",
       "      <th>SVR</th>\n",
       "      <td>52.711992</td>\n",
       "      <td>0.104265</td>\n",
       "      <td>SVR()</td>\n",
       "    </tr>\n",
       "    <tr>\n",
       "      <th>LinearSVR</th>\n",
       "      <td>185.715541</td>\n",
       "      <td>-10.118777</td>\n",
       "      <td>LinearSVR()</td>\n",
       "    </tr>\n",
       "  </tbody>\n",
       "</table>\n",
       "</div>"
      ],
      "text/plain": [
       "                                 rmse      score  \\\n",
       "name                                               \n",
       "XGBRegressor                10.606740   0.963732   \n",
       "LGBMRegressor               10.692344   0.963144   \n",
       "RandomForestRegressor       14.592190   0.931356   \n",
       "GradientBoostingRegressor   16.214722   0.915242   \n",
       "DecisionTreeRegressor       19.455922   0.877971   \n",
       "AdaBoostRegressor           35.415617   0.595657   \n",
       "LinearRegression            39.247236   0.503432   \n",
       "RidgeCV                     39.247557   0.503424   \n",
       "ElasticNet                  42.829383   0.408651   \n",
       "Lasso                       50.112899   0.190420   \n",
       "SVR                         52.711992   0.104265   \n",
       "LinearSVR                  185.715541 -10.118777   \n",
       "\n",
       "                                                                       model  \n",
       "name                                                                          \n",
       "XGBRegressor               XGBRegressor(base_score=0.5, booster='gbtree',...  \n",
       "LGBMRegressor                                                LGBMRegressor()  \n",
       "RandomForestRegressor      (DecisionTreeRegressor(max_features='auto', ra...  \n",
       "GradientBoostingRegressor  ([DecisionTreeRegressor(criterion='friedman_ms...  \n",
       "DecisionTreeRegressor                                DecisionTreeRegressor()  \n",
       "AdaBoostRegressor          (DecisionTreeRegressor(max_depth=3, random_sta...  \n",
       "LinearRegression                                          LinearRegression()  \n",
       "RidgeCV                    RidgeCV(alphas=array([0.001, 0.01 , 0.1  , 1. ...  \n",
       "ElasticNet                                             ElasticNet(alpha=0.8)  \n",
       "Lasso                                      Lasso(alpha=16, random_state=100)  \n",
       "SVR                                                                    SVR()  \n",
       "LinearSVR                                                        LinearSVR()  "
      ]
     },
     "execution_count": 27,
     "metadata": {},
     "output_type": "execute_result"
    }
   ],
   "source": [
    "df_score = pd.DataFrame(list(zip(name,rmse, score, models)),columns=['name','rmse','score',\"model\"])\n",
    "df_score.set_index('name',inplace=True)\n",
    "df_score.sort_values(by=['score'], ascending= False,inplace=True)\n",
    "df_score"
   ]
  },
  {
   "cell_type": "markdown",
   "metadata": {
    "papermill": {
     "duration": 0.027543,
     "end_time": "2020-08-11T08:42:23.031668",
     "exception": false,
     "start_time": "2020-08-11T08:42:23.004125",
     "status": "completed"
    },
    "tags": []
   },
   "source": [
    "**Prediction**"
   ]
  },
  {
   "cell_type": "code",
   "execution_count": 28,
   "metadata": {
    "execution": {
     "iopub.execute_input": "2020-08-11T08:42:23.098943Z",
     "iopub.status.busy": "2020-08-11T08:42:23.098162Z",
     "iopub.status.idle": "2020-08-11T08:42:23.113894Z",
     "shell.execute_reply": "2020-08-11T08:42:23.114678Z"
    },
    "papermill": {
     "duration": 0.055192,
     "end_time": "2020-08-11T08:42:23.114898",
     "exception": false,
     "start_time": "2020-08-11T08:42:23.059706",
     "status": "completed"
    },
    "tags": []
   },
   "outputs": [
    {
     "data": {
      "text/plain": [
       "array([214.39821 ,  57.155132, 103.225586, ..., 153.90312 , 115.75647 ,\n",
       "        35.398285], dtype=float32)"
      ]
     },
     "execution_count": 28,
     "metadata": {},
     "output_type": "execute_result"
    }
   ],
   "source": [
    "model = df_score.loc[\"XGBRegressor\",\"model\"]\n",
    "predict = model.predict(X_test)\n",
    "predict"
   ]
  }
 ],
 "metadata": {
  "kernelspec": {
   "display_name": "Python 3 (ipykernel)",
   "language": "python",
   "name": "python3"
  },
  "language_info": {
   "codemirror_mode": {
    "name": "ipython",
    "version": 3
   },
   "file_extension": ".py",
   "mimetype": "text/x-python",
   "name": "python",
   "nbconvert_exporter": "python",
   "pygments_lexer": "ipython3",
   "version": "3.9.7"
  },
  "papermill": {
   "duration": 99.374385,
   "end_time": "2020-08-11T08:42:23.396619",
   "environment_variables": {},
   "exception": null,
   "input_path": "__notebook__.ipynb",
   "output_path": "__notebook__.ipynb",
   "parameters": {},
   "start_time": "2020-08-11T08:40:44.022234",
   "version": "2.1.0"
  }
 },
 "nbformat": 4,
 "nbformat_minor": 4
}
